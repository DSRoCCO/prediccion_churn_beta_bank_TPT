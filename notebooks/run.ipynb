{
 "cells": [
  {
   "cell_type": "markdown",
   "metadata": {},
   "source": [
    "### Descripción del proyecto\n",
    "Los clientes de Beta Bank se están yendo, cada mes, poco a poco. Los banqueros descubrieron que es más barato salvar a los clientes existentes que atraer nuevos.\n",
    "\n",
    "Necesitamos predecir si un cliente dejará el banco pronto. Tú tienes los datos sobre el comportamiento pasado de los clientes y la terminación de contratos con el banco.\n",
    "\n",
    "Crea un modelo con el máximo valor F1 posible. Para aprobar la revisión, necesitas un valor F1 de al menos 0.59. Verifica F1 para el conjunto de prueba. \n",
    "\n",
    "Además, debes medir la métrica AUC-ROC y compararla con el valor F1.\n",
    "\n",
    "Descripción de los datos\n",
    "Puedes encontrar los datos en el archivo  /datasets/Churn.csv file. Descarga el conjunto de datos.\n",
    "\n",
    "Características\n",
    "\n",
    "* RowNumber: índice de cadena de datos\n",
    "* CustomerId: identificador de cliente único\n",
    "* Surname: apellido\n",
    "* CreditScore: valor de crédito\n",
    "* Geography: país de residencia\n",
    "* Gender: sexo\n",
    "* Age: edad\n",
    "* Tenure: período durante el cual ha madurado el depósito a plazo fijo de un cliente (años)\n",
    "* Balance: saldo de la cuenta\n",
    "* NumOfProducts: número de productos bancarios utilizados por el cliente\n",
    "* HasCrCard: el cliente tiene una tarjeta de crédito (1 - sí; 0 - no)\n",
    "* IsActiveMember: actividad del cliente (1 - sí; 0 - no)\n",
    "* EstimatedSalary: salario estimado\n",
    "\n",
    "Objetivo\n",
    "\n",
    "Exited: El cliente se ha ido (1 - sí; 0 - no)"
   ]
  },
  {
   "cell_type": "code",
   "execution_count": 1,
   "metadata": {},
   "outputs": [],
   "source": [
    "# Bibliotecas estándar de Python\n",
    "import numpy as np\n",
    "import pandas as pd\n",
    "\n",
    "# Bibliotecas de visualización\n",
    "import matplotlib.pyplot as plt\n",
    "import seaborn as sns\n",
    "\n",
    "# Bibliotecas de scikit-learn\n",
    "from sklearn.ensemble import RandomForestClassifier\n",
    "from sklearn.model_selection import train_test_split, cross_val_score\n",
    "from sklearn.metrics import (\n",
    "    accuracy_score,\n",
    "    recall_score,\n",
    "    roc_auc_score,\n",
    "    f1_score,\n",
    "    confusion_matrix\n",
    ")\n",
    "from sklearn.utils import shuffle\n",
    "\n",
    "# Bibliotecas de procesamiento de datos\n",
    "from imblearn.over_sampling import RandomOverSampler"
   ]
  },
  {
   "cell_type": "markdown",
   "metadata": {},
   "source": [
    "#### Preprocesamiento de datos"
   ]
  },
  {
   "cell_type": "code",
   "execution_count": 29,
   "metadata": {},
   "outputs": [
    {
     "data": {
      "text/html": [
       "<div>\n",
       "<style scoped>\n",
       "    .dataframe tbody tr th:only-of-type {\n",
       "        vertical-align: middle;\n",
       "    }\n",
       "\n",
       "    .dataframe tbody tr th {\n",
       "        vertical-align: top;\n",
       "    }\n",
       "\n",
       "    .dataframe thead th {\n",
       "        text-align: right;\n",
       "    }\n",
       "</style>\n",
       "<table border=\"1\" class=\"dataframe\">\n",
       "  <thead>\n",
       "    <tr style=\"text-align: right;\">\n",
       "      <th></th>\n",
       "      <th>RowNumber</th>\n",
       "      <th>CustomerId</th>\n",
       "      <th>Surname</th>\n",
       "      <th>CreditScore</th>\n",
       "      <th>Geography</th>\n",
       "      <th>Gender</th>\n",
       "      <th>Age</th>\n",
       "      <th>Tenure</th>\n",
       "      <th>Balance</th>\n",
       "      <th>NumOfProducts</th>\n",
       "      <th>HasCrCard</th>\n",
       "      <th>IsActiveMember</th>\n",
       "      <th>EstimatedSalary</th>\n",
       "      <th>Exited</th>\n",
       "    </tr>\n",
       "  </thead>\n",
       "  <tbody>\n",
       "    <tr>\n",
       "      <th>0</th>\n",
       "      <td>1</td>\n",
       "      <td>15634602</td>\n",
       "      <td>Hargrave</td>\n",
       "      <td>619</td>\n",
       "      <td>France</td>\n",
       "      <td>Female</td>\n",
       "      <td>42</td>\n",
       "      <td>2.0</td>\n",
       "      <td>0.00</td>\n",
       "      <td>1</td>\n",
       "      <td>1</td>\n",
       "      <td>1</td>\n",
       "      <td>101348.88</td>\n",
       "      <td>1</td>\n",
       "    </tr>\n",
       "    <tr>\n",
       "      <th>1</th>\n",
       "      <td>2</td>\n",
       "      <td>15647311</td>\n",
       "      <td>Hill</td>\n",
       "      <td>608</td>\n",
       "      <td>Spain</td>\n",
       "      <td>Female</td>\n",
       "      <td>41</td>\n",
       "      <td>1.0</td>\n",
       "      <td>83807.86</td>\n",
       "      <td>1</td>\n",
       "      <td>0</td>\n",
       "      <td>1</td>\n",
       "      <td>112542.58</td>\n",
       "      <td>0</td>\n",
       "    </tr>\n",
       "    <tr>\n",
       "      <th>2</th>\n",
       "      <td>3</td>\n",
       "      <td>15619304</td>\n",
       "      <td>Onio</td>\n",
       "      <td>502</td>\n",
       "      <td>France</td>\n",
       "      <td>Female</td>\n",
       "      <td>42</td>\n",
       "      <td>8.0</td>\n",
       "      <td>159660.80</td>\n",
       "      <td>3</td>\n",
       "      <td>1</td>\n",
       "      <td>0</td>\n",
       "      <td>113931.57</td>\n",
       "      <td>1</td>\n",
       "    </tr>\n",
       "    <tr>\n",
       "      <th>3</th>\n",
       "      <td>4</td>\n",
       "      <td>15701354</td>\n",
       "      <td>Boni</td>\n",
       "      <td>699</td>\n",
       "      <td>France</td>\n",
       "      <td>Female</td>\n",
       "      <td>39</td>\n",
       "      <td>1.0</td>\n",
       "      <td>0.00</td>\n",
       "      <td>2</td>\n",
       "      <td>0</td>\n",
       "      <td>0</td>\n",
       "      <td>93826.63</td>\n",
       "      <td>0</td>\n",
       "    </tr>\n",
       "    <tr>\n",
       "      <th>4</th>\n",
       "      <td>5</td>\n",
       "      <td>15737888</td>\n",
       "      <td>Mitchell</td>\n",
       "      <td>850</td>\n",
       "      <td>Spain</td>\n",
       "      <td>Female</td>\n",
       "      <td>43</td>\n",
       "      <td>2.0</td>\n",
       "      <td>125510.82</td>\n",
       "      <td>1</td>\n",
       "      <td>1</td>\n",
       "      <td>1</td>\n",
       "      <td>79084.10</td>\n",
       "      <td>0</td>\n",
       "    </tr>\n",
       "    <tr>\n",
       "      <th>...</th>\n",
       "      <td>...</td>\n",
       "      <td>...</td>\n",
       "      <td>...</td>\n",
       "      <td>...</td>\n",
       "      <td>...</td>\n",
       "      <td>...</td>\n",
       "      <td>...</td>\n",
       "      <td>...</td>\n",
       "      <td>...</td>\n",
       "      <td>...</td>\n",
       "      <td>...</td>\n",
       "      <td>...</td>\n",
       "      <td>...</td>\n",
       "      <td>...</td>\n",
       "    </tr>\n",
       "    <tr>\n",
       "      <th>9995</th>\n",
       "      <td>9996</td>\n",
       "      <td>15606229</td>\n",
       "      <td>Obijiaku</td>\n",
       "      <td>771</td>\n",
       "      <td>France</td>\n",
       "      <td>Male</td>\n",
       "      <td>39</td>\n",
       "      <td>5.0</td>\n",
       "      <td>0.00</td>\n",
       "      <td>2</td>\n",
       "      <td>1</td>\n",
       "      <td>0</td>\n",
       "      <td>96270.64</td>\n",
       "      <td>0</td>\n",
       "    </tr>\n",
       "    <tr>\n",
       "      <th>9996</th>\n",
       "      <td>9997</td>\n",
       "      <td>15569892</td>\n",
       "      <td>Johnstone</td>\n",
       "      <td>516</td>\n",
       "      <td>France</td>\n",
       "      <td>Male</td>\n",
       "      <td>35</td>\n",
       "      <td>10.0</td>\n",
       "      <td>57369.61</td>\n",
       "      <td>1</td>\n",
       "      <td>1</td>\n",
       "      <td>1</td>\n",
       "      <td>101699.77</td>\n",
       "      <td>0</td>\n",
       "    </tr>\n",
       "    <tr>\n",
       "      <th>9997</th>\n",
       "      <td>9998</td>\n",
       "      <td>15584532</td>\n",
       "      <td>Liu</td>\n",
       "      <td>709</td>\n",
       "      <td>France</td>\n",
       "      <td>Female</td>\n",
       "      <td>36</td>\n",
       "      <td>7.0</td>\n",
       "      <td>0.00</td>\n",
       "      <td>1</td>\n",
       "      <td>0</td>\n",
       "      <td>1</td>\n",
       "      <td>42085.58</td>\n",
       "      <td>1</td>\n",
       "    </tr>\n",
       "    <tr>\n",
       "      <th>9998</th>\n",
       "      <td>9999</td>\n",
       "      <td>15682355</td>\n",
       "      <td>Sabbatini</td>\n",
       "      <td>772</td>\n",
       "      <td>Germany</td>\n",
       "      <td>Male</td>\n",
       "      <td>42</td>\n",
       "      <td>3.0</td>\n",
       "      <td>75075.31</td>\n",
       "      <td>2</td>\n",
       "      <td>1</td>\n",
       "      <td>0</td>\n",
       "      <td>92888.52</td>\n",
       "      <td>1</td>\n",
       "    </tr>\n",
       "    <tr>\n",
       "      <th>9999</th>\n",
       "      <td>10000</td>\n",
       "      <td>15628319</td>\n",
       "      <td>Walker</td>\n",
       "      <td>792</td>\n",
       "      <td>France</td>\n",
       "      <td>Female</td>\n",
       "      <td>28</td>\n",
       "      <td>NaN</td>\n",
       "      <td>130142.79</td>\n",
       "      <td>1</td>\n",
       "      <td>1</td>\n",
       "      <td>0</td>\n",
       "      <td>38190.78</td>\n",
       "      <td>0</td>\n",
       "    </tr>\n",
       "  </tbody>\n",
       "</table>\n",
       "<p>10000 rows × 14 columns</p>\n",
       "</div>"
      ],
      "text/plain": [
       "      RowNumber  CustomerId    Surname  CreditScore Geography  Gender  Age  \\\n",
       "0             1    15634602   Hargrave          619    France  Female   42   \n",
       "1             2    15647311       Hill          608     Spain  Female   41   \n",
       "2             3    15619304       Onio          502    France  Female   42   \n",
       "3             4    15701354       Boni          699    France  Female   39   \n",
       "4             5    15737888   Mitchell          850     Spain  Female   43   \n",
       "...         ...         ...        ...          ...       ...     ...  ...   \n",
       "9995       9996    15606229   Obijiaku          771    France    Male   39   \n",
       "9996       9997    15569892  Johnstone          516    France    Male   35   \n",
       "9997       9998    15584532        Liu          709    France  Female   36   \n",
       "9998       9999    15682355  Sabbatini          772   Germany    Male   42   \n",
       "9999      10000    15628319     Walker          792    France  Female   28   \n",
       "\n",
       "      Tenure    Balance  NumOfProducts  HasCrCard  IsActiveMember  \\\n",
       "0        2.0       0.00              1          1               1   \n",
       "1        1.0   83807.86              1          0               1   \n",
       "2        8.0  159660.80              3          1               0   \n",
       "3        1.0       0.00              2          0               0   \n",
       "4        2.0  125510.82              1          1               1   \n",
       "...      ...        ...            ...        ...             ...   \n",
       "9995     5.0       0.00              2          1               0   \n",
       "9996    10.0   57369.61              1          1               1   \n",
       "9997     7.0       0.00              1          0               1   \n",
       "9998     3.0   75075.31              2          1               0   \n",
       "9999     NaN  130142.79              1          1               0   \n",
       "\n",
       "      EstimatedSalary  Exited  \n",
       "0           101348.88       1  \n",
       "1           112542.58       0  \n",
       "2           113931.57       1  \n",
       "3            93826.63       0  \n",
       "4            79084.10       0  \n",
       "...               ...     ...  \n",
       "9995         96270.64       0  \n",
       "9996        101699.77       0  \n",
       "9997         42085.58       1  \n",
       "9998         92888.52       1  \n",
       "9999         38190.78       0  \n",
       "\n",
       "[10000 rows x 14 columns]"
      ]
     },
     "execution_count": 29,
     "metadata": {},
     "output_type": "execute_result"
    }
   ],
   "source": [
    "raw_data = pd.read_csv('../raw/Churn.csv') #carga de datos\n",
    "raw_data"
   ]
  },
  {
   "cell_type": "code",
   "execution_count": 3,
   "metadata": {},
   "outputs": [
    {
     "name": "stdout",
     "output_type": "stream",
     "text": [
      "<class 'pandas.core.frame.DataFrame'>\n",
      "RangeIndex: 10000 entries, 0 to 9999\n",
      "Data columns (total 14 columns):\n",
      " #   Column           Non-Null Count  Dtype  \n",
      "---  ------           --------------  -----  \n",
      " 0   RowNumber        10000 non-null  int64  \n",
      " 1   CustomerId       10000 non-null  int64  \n",
      " 2   Surname          10000 non-null  object \n",
      " 3   CreditScore      10000 non-null  int64  \n",
      " 4   Geography        10000 non-null  object \n",
      " 5   Gender           10000 non-null  object \n",
      " 6   Age              10000 non-null  int64  \n",
      " 7   Tenure           9091 non-null   float64\n",
      " 8   Balance          10000 non-null  float64\n",
      " 9   NumOfProducts    10000 non-null  int64  \n",
      " 10  HasCrCard        10000 non-null  int64  \n",
      " 11  IsActiveMember   10000 non-null  int64  \n",
      " 12  EstimatedSalary  10000 non-null  float64\n",
      " 13  Exited           10000 non-null  int64  \n",
      "dtypes: float64(3), int64(8), object(3)\n",
      "memory usage: 1.1+ MB\n"
     ]
    }
   ],
   "source": [
    "#revisamos los datos\n",
    "raw_data.info(show_counts=True)"
   ]
  },
  {
   "cell_type": "code",
   "execution_count": 4,
   "metadata": {},
   "outputs": [
    {
     "data": {
      "text/plain": [
       "False    10000\n",
       "Name: count, dtype: int64"
      ]
     },
     "execution_count": 4,
     "metadata": {},
     "output_type": "execute_result"
    }
   ],
   "source": [
    "raw_data.duplicated().value_counts()"
   ]
  },
  {
   "cell_type": "code",
   "execution_count": 5,
   "metadata": {},
   "outputs": [
    {
     "name": "stdout",
     "output_type": "stream",
     "text": [
      "<class 'pandas.core.frame.DataFrame'>\n",
      "RangeIndex: 10000 entries, 0 to 9999\n",
      "Data columns (total 14 columns):\n",
      " #   Column           Non-Null Count  Dtype   \n",
      "---  ------           --------------  -----   \n",
      " 0   RowNumber        10000 non-null  int64   \n",
      " 1   CustomerId       10000 non-null  int64   \n",
      " 2   Surname          10000 non-null  category\n",
      " 3   CreditScore      10000 non-null  int64   \n",
      " 4   Geography        10000 non-null  category\n",
      " 5   Gender           10000 non-null  category\n",
      " 6   Age              10000 non-null  int64   \n",
      " 7   Tenure           9091 non-null   float64 \n",
      " 8   Balance          10000 non-null  float64 \n",
      " 9   NumOfProducts    10000 non-null  int64   \n",
      " 10  HasCrCard        10000 non-null  int64   \n",
      " 11  IsActiveMember   10000 non-null  int64   \n",
      " 12  EstimatedSalary  10000 non-null  float64 \n",
      " 13  Exited           10000 non-null  int64   \n",
      "dtypes: category(3), float64(3), int64(8)\n",
      "memory usage: 986.3 KB\n"
     ]
    }
   ],
   "source": [
    "raw_data[raw_data.select_dtypes('object').columns]=raw_data[raw_data.select_dtypes('object').columns].astype('category')\n",
    "raw_data.info(show_counts=True)"
   ]
  },
  {
   "cell_type": "code",
   "execution_count": 6,
   "metadata": {},
   "outputs": [
    {
     "data": {
      "text/plain": [
       "Tenure\n",
       "False    0.9091\n",
       "True     0.0909\n",
       "Name: proportion, dtype: float64"
      ]
     },
     "execution_count": 6,
     "metadata": {},
     "output_type": "execute_result"
    }
   ],
   "source": [
    "# Porcentaje de Faltantes y no faltantes\n",
    "raw_data['Tenure'].isnull().value_counts(normalize=True) # como vemos 90.91% son valores nulos"
   ]
  },
  {
   "cell_type": "code",
   "execution_count": 7,
   "metadata": {},
   "outputs": [
    {
     "data": {
      "text/plain": [
       "[0, 467, 406, 32]"
      ]
     },
     "execution_count": 7,
     "metadata": {},
     "output_type": "execute_result"
    }
   ],
   "source": [
    " #Relacion de NumOfProduct con Tenure -> NaN\n",
    "[int(raw_data[(raw_data['Tenure'].isna()) & (raw_data['NumOfProducts']==val)]['RowNumber'].count()) for val in range(0,max(raw_data['NumOfProducts']))]"
   ]
  },
  {
   "cell_type": "code",
   "execution_count": 8,
   "metadata": {},
   "outputs": [
    {
     "data": {
      "text/plain": [
       "[445, 464]"
      ]
     },
     "execution_count": 8,
     "metadata": {},
     "output_type": "execute_result"
    }
   ],
   "source": [
    "# Relacion de IsActiveMember con Tenure -> NaN\n",
    "[int(raw_data[(raw_data['Tenure'].isna()) & (raw_data['IsActiveMember']==val)]['RowNumber'].count()) for val in [0,1]] "
   ]
  },
  {
   "cell_type": "code",
   "execution_count": 9,
   "metadata": {},
   "outputs": [
    {
     "data": {
      "text/plain": [
       "[263, 646]"
      ]
     },
     "execution_count": 9,
     "metadata": {},
     "output_type": "execute_result"
    }
   ],
   "source": [
    "# Relacion de IsActiveMember con Tenure >NaN\n",
    "[int(raw_data[(raw_data['Tenure'].isna()) & (raw_data['HasCrCard']==val)]['RowNumber'].count()) for val in [0,1]] "
   ]
  },
  {
   "cell_type": "code",
   "execution_count": 10,
   "metadata": {},
   "outputs": [
    {
     "name": "stdout",
     "output_type": "stream",
     "text": [
      "<class 'pandas.core.frame.DataFrame'>\n",
      "RangeIndex: 10000 entries, 0 to 9999\n",
      "Data columns (total 14 columns):\n",
      " #   Column           Non-Null Count  Dtype   \n",
      "---  ------           --------------  -----   \n",
      " 0   RowNumber        10000 non-null  int64   \n",
      " 1   CustomerId       10000 non-null  int64   \n",
      " 2   Surname          10000 non-null  category\n",
      " 3   CreditScore      10000 non-null  int64   \n",
      " 4   Geography        10000 non-null  category\n",
      " 5   Gender           10000 non-null  category\n",
      " 6   Age              10000 non-null  int64   \n",
      " 7   Tenure           10000 non-null  float64 \n",
      " 8   Balance          10000 non-null  float64 \n",
      " 9   NumOfProducts    10000 non-null  int64   \n",
      " 10  HasCrCard        10000 non-null  int64   \n",
      " 11  IsActiveMember   10000 non-null  int64   \n",
      " 12  EstimatedSalary  10000 non-null  float64 \n",
      " 13  Exited           10000 non-null  int64   \n",
      "dtypes: category(3), float64(3), int64(8)\n",
      "memory usage: 986.3 KB\n"
     ]
    }
   ],
   "source": [
    "raw_data['Tenure'] = raw_data['Tenure'].fillna(raw_data['Tenure'].median())\n",
    "raw_data.info(show_counts=True)"
   ]
  },
  {
   "cell_type": "code",
   "execution_count": 11,
   "metadata": {},
   "outputs": [
    {
     "data": {
      "text/html": [
       "<div>\n",
       "<style scoped>\n",
       "    .dataframe tbody tr th:only-of-type {\n",
       "        vertical-align: middle;\n",
       "    }\n",
       "\n",
       "    .dataframe tbody tr th {\n",
       "        vertical-align: top;\n",
       "    }\n",
       "\n",
       "    .dataframe thead th {\n",
       "        text-align: right;\n",
       "    }\n",
       "</style>\n",
       "<table border=\"1\" class=\"dataframe\">\n",
       "  <thead>\n",
       "    <tr style=\"text-align: right;\">\n",
       "      <th></th>\n",
       "      <th>RowNumber</th>\n",
       "      <th>CustomerId</th>\n",
       "      <th>CreditScore</th>\n",
       "      <th>Age</th>\n",
       "      <th>Tenure</th>\n",
       "      <th>Balance</th>\n",
       "      <th>NumOfProducts</th>\n",
       "      <th>HasCrCard</th>\n",
       "      <th>IsActiveMember</th>\n",
       "      <th>EstimatedSalary</th>\n",
       "      <th>...</th>\n",
       "      <th>Surname_Zotova</th>\n",
       "      <th>Surname_Zox</th>\n",
       "      <th>Surname_Zubarev</th>\n",
       "      <th>Surname_Zubareva</th>\n",
       "      <th>Surname_Zuev</th>\n",
       "      <th>Surname_Zuyev</th>\n",
       "      <th>Surname_Zuyeva</th>\n",
       "      <th>Geography_Germany</th>\n",
       "      <th>Geography_Spain</th>\n",
       "      <th>Gender_Male</th>\n",
       "    </tr>\n",
       "  </thead>\n",
       "  <tbody>\n",
       "    <tr>\n",
       "      <th>0</th>\n",
       "      <td>1</td>\n",
       "      <td>15634602</td>\n",
       "      <td>619</td>\n",
       "      <td>42</td>\n",
       "      <td>2.0</td>\n",
       "      <td>0.00</td>\n",
       "      <td>1</td>\n",
       "      <td>1</td>\n",
       "      <td>1</td>\n",
       "      <td>101348.88</td>\n",
       "      <td>...</td>\n",
       "      <td>0</td>\n",
       "      <td>0</td>\n",
       "      <td>0</td>\n",
       "      <td>0</td>\n",
       "      <td>0</td>\n",
       "      <td>0</td>\n",
       "      <td>0</td>\n",
       "      <td>0</td>\n",
       "      <td>0</td>\n",
       "      <td>0</td>\n",
       "    </tr>\n",
       "    <tr>\n",
       "      <th>1</th>\n",
       "      <td>2</td>\n",
       "      <td>15647311</td>\n",
       "      <td>608</td>\n",
       "      <td>41</td>\n",
       "      <td>1.0</td>\n",
       "      <td>83807.86</td>\n",
       "      <td>1</td>\n",
       "      <td>0</td>\n",
       "      <td>1</td>\n",
       "      <td>112542.58</td>\n",
       "      <td>...</td>\n",
       "      <td>0</td>\n",
       "      <td>0</td>\n",
       "      <td>0</td>\n",
       "      <td>0</td>\n",
       "      <td>0</td>\n",
       "      <td>0</td>\n",
       "      <td>0</td>\n",
       "      <td>0</td>\n",
       "      <td>1</td>\n",
       "      <td>0</td>\n",
       "    </tr>\n",
       "    <tr>\n",
       "      <th>2</th>\n",
       "      <td>3</td>\n",
       "      <td>15619304</td>\n",
       "      <td>502</td>\n",
       "      <td>42</td>\n",
       "      <td>8.0</td>\n",
       "      <td>159660.80</td>\n",
       "      <td>3</td>\n",
       "      <td>1</td>\n",
       "      <td>0</td>\n",
       "      <td>113931.57</td>\n",
       "      <td>...</td>\n",
       "      <td>0</td>\n",
       "      <td>0</td>\n",
       "      <td>0</td>\n",
       "      <td>0</td>\n",
       "      <td>0</td>\n",
       "      <td>0</td>\n",
       "      <td>0</td>\n",
       "      <td>0</td>\n",
       "      <td>0</td>\n",
       "      <td>0</td>\n",
       "    </tr>\n",
       "    <tr>\n",
       "      <th>3</th>\n",
       "      <td>4</td>\n",
       "      <td>15701354</td>\n",
       "      <td>699</td>\n",
       "      <td>39</td>\n",
       "      <td>1.0</td>\n",
       "      <td>0.00</td>\n",
       "      <td>2</td>\n",
       "      <td>0</td>\n",
       "      <td>0</td>\n",
       "      <td>93826.63</td>\n",
       "      <td>...</td>\n",
       "      <td>0</td>\n",
       "      <td>0</td>\n",
       "      <td>0</td>\n",
       "      <td>0</td>\n",
       "      <td>0</td>\n",
       "      <td>0</td>\n",
       "      <td>0</td>\n",
       "      <td>0</td>\n",
       "      <td>0</td>\n",
       "      <td>0</td>\n",
       "    </tr>\n",
       "    <tr>\n",
       "      <th>4</th>\n",
       "      <td>5</td>\n",
       "      <td>15737888</td>\n",
       "      <td>850</td>\n",
       "      <td>43</td>\n",
       "      <td>2.0</td>\n",
       "      <td>125510.82</td>\n",
       "      <td>1</td>\n",
       "      <td>1</td>\n",
       "      <td>1</td>\n",
       "      <td>79084.10</td>\n",
       "      <td>...</td>\n",
       "      <td>0</td>\n",
       "      <td>0</td>\n",
       "      <td>0</td>\n",
       "      <td>0</td>\n",
       "      <td>0</td>\n",
       "      <td>0</td>\n",
       "      <td>0</td>\n",
       "      <td>0</td>\n",
       "      <td>1</td>\n",
       "      <td>0</td>\n",
       "    </tr>\n",
       "    <tr>\n",
       "      <th>...</th>\n",
       "      <td>...</td>\n",
       "      <td>...</td>\n",
       "      <td>...</td>\n",
       "      <td>...</td>\n",
       "      <td>...</td>\n",
       "      <td>...</td>\n",
       "      <td>...</td>\n",
       "      <td>...</td>\n",
       "      <td>...</td>\n",
       "      <td>...</td>\n",
       "      <td>...</td>\n",
       "      <td>...</td>\n",
       "      <td>...</td>\n",
       "      <td>...</td>\n",
       "      <td>...</td>\n",
       "      <td>...</td>\n",
       "      <td>...</td>\n",
       "      <td>...</td>\n",
       "      <td>...</td>\n",
       "      <td>...</td>\n",
       "      <td>...</td>\n",
       "    </tr>\n",
       "    <tr>\n",
       "      <th>9995</th>\n",
       "      <td>9996</td>\n",
       "      <td>15606229</td>\n",
       "      <td>771</td>\n",
       "      <td>39</td>\n",
       "      <td>5.0</td>\n",
       "      <td>0.00</td>\n",
       "      <td>2</td>\n",
       "      <td>1</td>\n",
       "      <td>0</td>\n",
       "      <td>96270.64</td>\n",
       "      <td>...</td>\n",
       "      <td>0</td>\n",
       "      <td>0</td>\n",
       "      <td>0</td>\n",
       "      <td>0</td>\n",
       "      <td>0</td>\n",
       "      <td>0</td>\n",
       "      <td>0</td>\n",
       "      <td>0</td>\n",
       "      <td>0</td>\n",
       "      <td>1</td>\n",
       "    </tr>\n",
       "    <tr>\n",
       "      <th>9996</th>\n",
       "      <td>9997</td>\n",
       "      <td>15569892</td>\n",
       "      <td>516</td>\n",
       "      <td>35</td>\n",
       "      <td>10.0</td>\n",
       "      <td>57369.61</td>\n",
       "      <td>1</td>\n",
       "      <td>1</td>\n",
       "      <td>1</td>\n",
       "      <td>101699.77</td>\n",
       "      <td>...</td>\n",
       "      <td>0</td>\n",
       "      <td>0</td>\n",
       "      <td>0</td>\n",
       "      <td>0</td>\n",
       "      <td>0</td>\n",
       "      <td>0</td>\n",
       "      <td>0</td>\n",
       "      <td>0</td>\n",
       "      <td>0</td>\n",
       "      <td>1</td>\n",
       "    </tr>\n",
       "    <tr>\n",
       "      <th>9997</th>\n",
       "      <td>9998</td>\n",
       "      <td>15584532</td>\n",
       "      <td>709</td>\n",
       "      <td>36</td>\n",
       "      <td>7.0</td>\n",
       "      <td>0.00</td>\n",
       "      <td>1</td>\n",
       "      <td>0</td>\n",
       "      <td>1</td>\n",
       "      <td>42085.58</td>\n",
       "      <td>...</td>\n",
       "      <td>0</td>\n",
       "      <td>0</td>\n",
       "      <td>0</td>\n",
       "      <td>0</td>\n",
       "      <td>0</td>\n",
       "      <td>0</td>\n",
       "      <td>0</td>\n",
       "      <td>0</td>\n",
       "      <td>0</td>\n",
       "      <td>0</td>\n",
       "    </tr>\n",
       "    <tr>\n",
       "      <th>9998</th>\n",
       "      <td>9999</td>\n",
       "      <td>15682355</td>\n",
       "      <td>772</td>\n",
       "      <td>42</td>\n",
       "      <td>3.0</td>\n",
       "      <td>75075.31</td>\n",
       "      <td>2</td>\n",
       "      <td>1</td>\n",
       "      <td>0</td>\n",
       "      <td>92888.52</td>\n",
       "      <td>...</td>\n",
       "      <td>0</td>\n",
       "      <td>0</td>\n",
       "      <td>0</td>\n",
       "      <td>0</td>\n",
       "      <td>0</td>\n",
       "      <td>0</td>\n",
       "      <td>0</td>\n",
       "      <td>1</td>\n",
       "      <td>0</td>\n",
       "      <td>1</td>\n",
       "    </tr>\n",
       "    <tr>\n",
       "      <th>9999</th>\n",
       "      <td>10000</td>\n",
       "      <td>15628319</td>\n",
       "      <td>792</td>\n",
       "      <td>28</td>\n",
       "      <td>5.0</td>\n",
       "      <td>130142.79</td>\n",
       "      <td>1</td>\n",
       "      <td>1</td>\n",
       "      <td>0</td>\n",
       "      <td>38190.78</td>\n",
       "      <td>...</td>\n",
       "      <td>0</td>\n",
       "      <td>0</td>\n",
       "      <td>0</td>\n",
       "      <td>0</td>\n",
       "      <td>0</td>\n",
       "      <td>0</td>\n",
       "      <td>0</td>\n",
       "      <td>0</td>\n",
       "      <td>0</td>\n",
       "      <td>0</td>\n",
       "    </tr>\n",
       "  </tbody>\n",
       "</table>\n",
       "<p>10000 rows × 2945 columns</p>\n",
       "</div>"
      ],
      "text/plain": [
       "      RowNumber  CustomerId  CreditScore  Age  Tenure    Balance  \\\n",
       "0             1    15634602          619   42     2.0       0.00   \n",
       "1             2    15647311          608   41     1.0   83807.86   \n",
       "2             3    15619304          502   42     8.0  159660.80   \n",
       "3             4    15701354          699   39     1.0       0.00   \n",
       "4             5    15737888          850   43     2.0  125510.82   \n",
       "...         ...         ...          ...  ...     ...        ...   \n",
       "9995       9996    15606229          771   39     5.0       0.00   \n",
       "9996       9997    15569892          516   35    10.0   57369.61   \n",
       "9997       9998    15584532          709   36     7.0       0.00   \n",
       "9998       9999    15682355          772   42     3.0   75075.31   \n",
       "9999      10000    15628319          792   28     5.0  130142.79   \n",
       "\n",
       "      NumOfProducts  HasCrCard  IsActiveMember  EstimatedSalary  ...  \\\n",
       "0                 1          1               1        101348.88  ...   \n",
       "1                 1          0               1        112542.58  ...   \n",
       "2                 3          1               0        113931.57  ...   \n",
       "3                 2          0               0         93826.63  ...   \n",
       "4                 1          1               1         79084.10  ...   \n",
       "...             ...        ...             ...              ...  ...   \n",
       "9995              2          1               0         96270.64  ...   \n",
       "9996              1          1               1        101699.77  ...   \n",
       "9997              1          0               1         42085.58  ...   \n",
       "9998              2          1               0         92888.52  ...   \n",
       "9999              1          1               0         38190.78  ...   \n",
       "\n",
       "      Surname_Zotova  Surname_Zox  Surname_Zubarev  Surname_Zubareva  \\\n",
       "0                  0            0                0                 0   \n",
       "1                  0            0                0                 0   \n",
       "2                  0            0                0                 0   \n",
       "3                  0            0                0                 0   \n",
       "4                  0            0                0                 0   \n",
       "...              ...          ...              ...               ...   \n",
       "9995               0            0                0                 0   \n",
       "9996               0            0                0                 0   \n",
       "9997               0            0                0                 0   \n",
       "9998               0            0                0                 0   \n",
       "9999               0            0                0                 0   \n",
       "\n",
       "      Surname_Zuev  Surname_Zuyev  Surname_Zuyeva  Geography_Germany  \\\n",
       "0                0              0               0                  0   \n",
       "1                0              0               0                  0   \n",
       "2                0              0               0                  0   \n",
       "3                0              0               0                  0   \n",
       "4                0              0               0                  0   \n",
       "...            ...            ...             ...                ...   \n",
       "9995             0              0               0                  0   \n",
       "9996             0              0               0                  0   \n",
       "9997             0              0               0                  0   \n",
       "9998             0              0               0                  1   \n",
       "9999             0              0               0                  0   \n",
       "\n",
       "      Geography_Spain  Gender_Male  \n",
       "0                   0            0  \n",
       "1                   1            0  \n",
       "2                   0            0  \n",
       "3                   0            0  \n",
       "4                   1            0  \n",
       "...               ...          ...  \n",
       "9995                0            1  \n",
       "9996                0            1  \n",
       "9997                0            0  \n",
       "9998                0            1  \n",
       "9999                0            0  \n",
       "\n",
       "[10000 rows x 2945 columns]"
      ]
     },
     "execution_count": 11,
     "metadata": {},
     "output_type": "execute_result"
    }
   ],
   "source": [
    "df_bank =raw_data.copy(deep=True) #copiamos la data a df_bank\n",
    "df_bank =  pd.get_dummies(df_bank, drop_first=True) \n",
    "df_bank[df_bank.select_dtypes('bool').columns] = df_bank[df_bank.select_dtypes('bool').columns].astype(int)\n",
    "df_bank"
   ]
  },
  {
   "cell_type": "markdown",
   "metadata": {},
   "source": [
    "#### Examina el equilibrio de clases. Entrena el modelo sin tener en cuenta el desequilibrio."
   ]
  },
  {
   "cell_type": "code",
   "execution_count": 12,
   "metadata": {},
   "outputs": [],
   "source": [
    "#Dividimos los datos entre caracteristicas y target\n",
    "target = df_bank['Exited']\n",
    "features = df_bank.drop('Exited',axis=1)"
   ]
  },
  {
   "cell_type": "code",
   "execution_count": 13,
   "metadata": {},
   "outputs": [
    {
     "data": {
      "text/plain": [
       "Exited\n",
       "0    7963\n",
       "1    2037\n",
       "Name: count, dtype: int64"
      ]
     },
     "execution_count": 13,
     "metadata": {},
     "output_type": "execute_result"
    }
   ],
   "source": [
    "# Revisamos cuantos datos tiene cada clase.\n",
    "target.value_counts() # vemo que hay un desequilibrio entre clase 1 y clase 0 de 4 a 1 (4:1)"
   ]
  },
  {
   "cell_type": "code",
   "execution_count": 14,
   "metadata": {},
   "outputs": [],
   "source": [
    "# Dividimos los datos para entrenamiento y validacion.\n",
    "features_train, features_valid, target_train,target_valid = train_test_split(features, target, random_state=42)"
   ]
  },
  {
   "cell_type": "code",
   "execution_count": 15,
   "metadata": {},
   "outputs": [
    {
     "name": "stdout",
     "output_type": "stream",
     "text": [
      "Para depth: 10, tenemos un exactitud:0.8012  -  recall: 0.0  -  F1_Score de: 0.0  -  Auc_Roc: 0.5\n",
      "Para depth: 11, tenemos un exactitud:0.8012  -  recall: 0.0  -  F1_Score de: 0.0  -  Auc_Roc: 0.5\n",
      "Para depth: 12, tenemos un exactitud:0.8012  -  recall: 0.0  -  F1_Score de: 0.0  -  Auc_Roc: 0.5\n",
      "Para depth: 13, tenemos un exactitud:0.8012  -  recall: 0.0  -  F1_Score de: 0.0  -  Auc_Roc: 0.5\n",
      "Para depth: 14, tenemos un exactitud:0.8012  -  recall: 0.0  -  F1_Score de: 0.0  -  Auc_Roc: 0.5\n",
      "Para depth: 15, tenemos un exactitud:0.802  -  recall: 0.004024144869215292  -  F1_Score de: 0.008016032064128256  -  Auc_Roc: 0.5020120724346077\n",
      "Para depth: 16, tenemos un exactitud:0.8068  -  recall: 0.028169014084507043  -  F1_Score de: 0.0547945205479452  -  Auc_Roc: 0.5140845070422535\n",
      "Para depth: 17, tenemos un exactitud:0.8036  -  recall: 0.012072434607645875  -  F1_Score de: 0.02385685884691849  -  Auc_Roc: 0.506036217303823\n",
      "Para depth: 18, tenemos un exactitud:0.8056  -  recall: 0.022132796780684104  -  F1_Score de: 0.04330708661417323  -  Auc_Roc: 0.5110663983903421\n",
      "Para depth: 19, tenemos un exactitud:0.8044  -  recall: 0.01609657947686117  -  F1_Score de: 0.031683168316831684  -  Auc_Roc: 0.5080482897384306\n",
      "Para depth: 20, tenemos un exactitud:0.8032  -  recall: 0.01006036217303823  -  F1_Score de: 0.0199203187250996  -  Auc_Roc: 0.5050301810865191\n",
      "Para depth: 21, tenemos un exactitud:0.8068  -  recall: 0.028169014084507043  -  F1_Score de: 0.0547945205479452  -  Auc_Roc: 0.5140845070422535\n",
      "Para depth: 22, tenemos un exactitud:0.8148  -  recall: 0.06841046277665996  -  F1_Score de: 0.128060263653484  -  Auc_Roc: 0.53420523138833\n",
      "Para depth: 23, tenemos un exactitud:0.8164  -  recall: 0.07847082494969819  -  F1_Score de: 0.1452513966480447  -  Auc_Roc: 0.5389857869131915\n",
      "Para depth: 24, tenemos un exactitud:0.8164  -  recall: 0.07645875251509054  -  F1_Score de: 0.14205607476635515  -  Auc_Roc: 0.5382293762575453\n",
      "Para depth: 25, tenemos un exactitud:0.8072  -  recall: 0.030181086519114688  -  F1_Score de: 0.05859375  -  Auc_Roc: 0.5150905432595574\n",
      "Para depth: 26, tenemos un exactitud:0.8132  -  recall: 0.06237424547283702  -  F1_Score de: 0.11720226843100189  -  Auc_Roc: 0.530937497174761\n",
      "Para depth: 27, tenemos un exactitud:0.8148  -  recall: 0.0744466800804829  -  F1_Score de: 0.1378026070763501  -  Auc_Roc: 0.5364744633552688\n",
      "Para depth: 28, tenemos un exactitud:0.816  -  recall: 0.08048289738430583  -  F1_Score de: 0.14814814814814814  -  Auc_Roc: 0.5394925720071804\n",
      "Para depth: 29, tenemos un exactitud:0.8192  -  recall: 0.0925553319919517  -  F1_Score de: 0.16911764705882354  -  Auc_Roc: 0.5460280404343183\n"
     ]
    }
   ],
   "source": [
    "for depth in range(10,30):\n",
    "    model = RandomForestClassifier(random_state=42, n_estimators=20, max_depth=depth)\n",
    "    model.fit(features_train,target_train)\n",
    "    predicted = model.predict(features_valid)\n",
    "    print(f'Para depth: {depth}, tenemos un exactitud:{accuracy_score(target_valid, predicted)}  -  recall: {recall_score(target_valid,predicted)}  -  F1_Score de: {f1_score(target_valid, predicted)}  -  Auc_Roc: {roc_auc_score(target_valid,predicted)}')"
   ]
  },
  {
   "cell_type": "code",
   "execution_count": 16,
   "metadata": {},
   "outputs": [
    {
     "name": "stdout",
     "output_type": "stream",
     "text": [
      "Para n_estimators: 2, tenemos un exactitud:0.7916  -  recall: 0.022132796780684104  -  F1_Score de: 0.040515653775322284  -  Auc_Roc: 0.5023295037323291\n",
      "Para n_estimators: 3, tenemos un exactitud:0.8072  -  recall: 0.04024144869215292  -  F1_Score de: 0.07662835249042145  -  Auc_Roc: 0.5188725965377889\n",
      "Para n_estimators: 4, tenemos un exactitud:0.8144  -  recall: 0.0925553319919517  -  F1_Score de: 0.16546762589928057  -  Auc_Roc: 0.5430325336944282\n",
      "Para n_estimators: 5, tenemos un exactitud:0.812  -  recall: 0.06841046277665996  -  F1_Score de: 0.12639405204460966  -  Auc_Roc: 0.5324578524567274\n",
      "Para n_estimators: 6, tenemos un exactitud:0.8112  -  recall: 0.0744466800804829  -  F1_Score de: 0.13553113553113552  -  Auc_Roc: 0.5342278333003513\n",
      "Para n_estimators: 7, tenemos un exactitud:0.8128  -  recall: 0.06639839034205232  -  F1_Score de: 0.12359550561797752  -  Auc_Roc: 0.5322006929243961\n",
      "Para n_estimators: 8, tenemos un exactitud:0.814  -  recall: 0.07847082494969819  -  F1_Score de: 0.143646408839779  -  Auc_Roc: 0.5374880335432465\n",
      "Para n_estimators: 9, tenemos un exactitud:0.8116  -  recall: 0.05835010060362173  -  F1_Score de: 0.10964083175803403  -  Auc_Roc: 0.5284261736168383\n",
      "Para n_estimators: 10, tenemos un exactitud:0.8164  -  recall: 0.08048289738430583  -  F1_Score de: 0.14842300556586271  -  Auc_Roc: 0.5397421975688379\n",
      "Para n_estimators: 11, tenemos un exactitud:0.818  -  recall: 0.0925553319919517  -  F1_Score de: 0.16819012797074953  -  Auc_Roc: 0.5452791637493458\n",
      "Para n_estimators: 12, tenemos un exactitud:0.8168  -  recall: 0.08048289738430583  -  F1_Score de: 0.14869888475836432  -  Auc_Roc: 0.5399918231304954\n",
      "Para n_estimators: 13, tenemos un exactitud:0.8152  -  recall: 0.07243460764587525  -  F1_Score de: 0.1348314606741573  -  Auc_Roc: 0.5359676782612801\n",
      "Para n_estimators: 14, tenemos un exactitud:0.8164  -  recall: 0.08450704225352113  -  F1_Score de: 0.15469613259668508  -  Auc_Roc: 0.5412550188801305\n"
     ]
    }
   ],
   "source": [
    "#Vemos que para depth de 27 obtenemos la mayor exactitud\n",
    "for n in range(2,15):\n",
    "    model = RandomForestClassifier(random_state=42, n_estimators=n, max_depth=27)\n",
    "    model.fit(features_train,target_train)\n",
    "    predicted = model.predict(features_valid)\n",
    "    print(f'Para n_estimators: {n}, tenemos un exactitud:{accuracy_score(target_valid, predicted)}  -  recall: {recall_score(target_valid,predicted)}  -  F1_Score de: {f1_score(target_valid, predicted)}  -  Auc_Roc: {roc_auc_score(target_valid,predicted)}')"
   ]
  },
  {
   "cell_type": "code",
   "execution_count": 17,
   "metadata": {},
   "outputs": [
    {
     "name": "stdout",
     "output_type": "stream",
     "text": [
      "Para n_estimators: 14, tenemos un exactitud:0.812  -  recall: 0.06841046277665996  -  F1_Score de: 0.12639405204460966  -  Auc_Roc: 0.5324578524567274\n"
     ]
    }
   ],
   "source": [
    "# Modelo ajustado\n",
    "model = RandomForestClassifier(random_state=42, n_estimators=5, max_depth=27)\n",
    "model.fit(features_train,target_train)\n",
    "predicted = model.predict(features_valid)\n",
    "print(f'Para n_estimators: {n}, tenemos un exactitud:{accuracy_score(target_valid, predicted)}  -  recall: {recall_score(target_valid,predicted)}  -  F1_Score de: {f1_score(target_valid, predicted)}  -  Auc_Roc: {roc_auc_score(target_valid,predicted)}')"
   ]
  },
  {
   "cell_type": "code",
   "execution_count": 18,
   "metadata": {},
   "outputs": [
    {
     "data": {
      "image/png": "[encoded data removed]",
      "text/plain": [
       "<Figure size 400x300 with 1 Axes>"
      ]
     },
     "metadata": {},
     "output_type": "display_data"
    }
   ],
   "source": [
    "# Matrix de Confusion\n",
    "cm = confusion_matrix(target_valid,predicted)\n",
    "\n",
    "plt.figure(figsize=(4, 3))\n",
    "sns.heatmap(cm, annot=True, fmt='d', cmap='Blues', cbar=False, xticklabels=[0,1], yticklabels=[0,1])\n",
    "plt.xlabel('Predicted')\n",
    "plt.ylabel('Target_valid')\n",
    "plt.title('Confusion Matrix')\n",
    "plt.show()"
   ]
  },
  {
   "cell_type": "markdown",
   "metadata": {},
   "source": [
    " Hallazgos:\n",
    " \n",
    "- Como podemos ver las metricas nos indican que el modelo es lo suficiente bueno, sobre todo por F1_score y recall como explico a continuacion.\n",
    "- Como vemos en la matrix de confusion tenemos verdaderos positivos, pero muchos mas verdaderos negativos.\n",
    "- Para Exactitud o Accuracy, tenemos que estamos detectando el 81.2% de los valores positivos, este parametro es bueno pero no sufiente.\n",
    "- Para recall o sensibilidad, tenemos que solo el 6.84% son verdaderos positivos, es decir solo este porcentaje fueron identificados correctamente.\n",
    "- F1_score, es bajo 12.64% nos indica probablemente un desbalance ya que exactitud y/o recall tiene problemas.\n",
    "- Auc_Roc, tenemos un 53.24%, esto nos indica que apenas y es algo mejor que un modelo al azar."
   ]
  },
  {
   "cell_type": "markdown",
   "metadata": {},
   "source": [
    "#### Mejora la calidad del modelo. Asegúrate de utilizar al menos dos enfoques para corregir el desequilibrio de clases. Utiliza conjuntos de entrenamiento y validación para encontrar el mejor modelo y el mejor conjunto de parámetros. Entrena diferentes modelos en los conjuntos de entrenamiento y validación. Encuentra el mejor. \n",
    "\n"
   ]
  },
  {
   "cell_type": "code",
   "execution_count": 19,
   "metadata": {},
   "outputs": [
    {
     "data": {
      "text/plain": [
       "Exited\n",
       "0    7963\n",
       "1    2037\n",
       "Name: count, dtype: int64"
      ]
     },
     "execution_count": 19,
     "metadata": {},
     "output_type": "execute_result"
    }
   ],
   "source": [
    "#Tenemos 2 opciones para ajustar el desequilibrio de clases el sobremuestreo o submuestreo, escogere el sobremuestreo ya que el submuestreo elimina datos y no lo considero la mejor opcion\n",
    "target.value_counts() "
   ]
  },
  {
   "cell_type": "code",
   "execution_count": 20,
   "metadata": {},
   "outputs": [
    {
     "data": {
      "text/plain": [
       "Exited\n",
       "1    7963\n",
       "0    7963\n",
       "Name: count, dtype: int64"
      ]
     },
     "execution_count": 20,
     "metadata": {},
     "output_type": "execute_result"
    }
   ],
   "source": [
    "# Utilizaremos la libreria imblearn con RandomOverSampling para balancear las clases de forma exacta\n",
    "ros = RandomOverSampler(random_state=42)\n",
    "features_resampled, target_resampled = ros.fit_resample(features, target)\n",
    "target_resampled.value_counts()"
   ]
  },
  {
   "cell_type": "code",
   "execution_count": 21,
   "metadata": {},
   "outputs": [],
   "source": [
    "#Realizamos una mezcla de los datos para evitar sesgos\n",
    "features_resampled, target_resampled = shuffle(features_resampled, target_resampled, random_state=42)"
   ]
  },
  {
   "cell_type": "code",
   "execution_count": 22,
   "metadata": {},
   "outputs": [],
   "source": [
    "# Obtenemos nuevamente los datos de entrenamiento del modelo\n",
    "features_train_res, features_valid_res, target_train_res, target_valid_res = train_test_split(features_resampled, target_resampled, random_state=42)"
   ]
  },
  {
   "cell_type": "code",
   "execution_count": 23,
   "metadata": {},
   "outputs": [
    {
     "name": "stdout",
     "output_type": "stream",
     "text": [
      "Para n_estimators 20  -  Tenemos un exactitud:0.7850326469111  -  recall: 0.7779495105615662  -  F1_Score de: 0.7791537667698658  -  Auc_Roc: 0.7848591256874466\n",
      "Para n_estimators 21  -  Tenemos un exactitud:0.7754897036664993  -  recall: 0.7686759402369913  -  F1_Score de: 0.7694687983496648  -  Auc_Roc: 0.7753227814854726\n",
      "Para n_estimators 22  -  Tenemos un exactitud:0.7812656956303365  -  recall: 0.7712519319938176  -  F1_Score de: 0.7746442432082794  -  Auc_Roc: 0.7810203804996035\n",
      "Para n_estimators 23  -  Tenemos un exactitud:0.7797589151180312  -  recall: 0.7733127253992788  -  F1_Score de: 0.7739108017530292  -  Auc_Roc: 0.7796009976824909\n",
      "Para n_estimators 24  -  Tenemos un exactitud:0.7822702159718734  -  recall: 0.773827923750644  -  F1_Score de: 0.7760268664427796  -  Auc_Roc: 0.7820633984260325\n",
      "Para n_estimators 25  -  Tenemos un exactitud:0.7807634354595681  -  recall: 0.7697063369397218  -  F1_Score de: 0.7738927738927739  -  Auc_Roc: 0.7804925609245399\n",
      "Para n_estimators 26  -  Tenemos un exactitud:0.7822702159718734  -  recall: 0.7717671303451829  -  F1_Score de: 0.7755630339114677  -  Auc_Roc: 0.782012913531239\n",
      "Para n_estimators 27  -  Tenemos un exactitud:0.7845303867403315  -  recall: 0.7753735188047398  -  F1_Score de: 0.7781799379524302  -  Auc_Roc: 0.7843060636649862\n",
      "Para n_estimators 28  -  Tenemos un exactitud:0.7860371672526368  -  recall: 0.7805255023183926  -  F1_Score de: 0.7805255023183926  -  Auc_Roc: 0.7859021436138753\n",
      "Para n_estimators 29  -  Tenemos un exactitud:0.7893018583626319  -  recall: 0.7810407006697578  -  F1_Score de: 0.7832601394988375  -  Auc_Roc: 0.7890994782133698\n",
      "Para n_estimators 30  -  Tenemos un exactitud:0.7910597689603215  -  recall: 0.7800103039670273  -  F1_Score de: 0.7844559585492228  -  Auc_Roc: 0.7907890814298635\n",
      "Para n_estimators 31  -  Tenemos un exactitud:0.7847815168257157  -  recall: 0.7836166924265843  -  F1_Score de: 0.7802000512952039  -  Auc_Roc: 0.7847529811961437\n",
      "Para n_estimators 32  -  Tenemos un exactitud:0.7860371672526368  -  recall: 0.7810407006697578  -  F1_Score de: 0.780638516992791  -  Auc_Roc: 0.7859147648375735\n",
      "Para n_estimators 33  -  Tenemos un exactitud:0.784028126569563  -  recall: 0.779495105615662  -  F1_Score de: 0.7786927431806485  -  Auc_Roc: 0.7839170775506041\n",
      "Para n_estimators 34  -  Tenemos un exactitud:0.7812656956303365  -  recall: 0.7722823286965482  -  F1_Score de: 0.7748772292582062  -  Auc_Roc: 0.7810456229470004\n",
      "Para n_estimators 35  -  Tenemos un exactitud:0.7810145655449523  -  recall: 0.7717671303451829  -  F1_Score de: 0.7745604963805585  -  Auc_Roc: 0.7807880237713175\n",
      "Para n_estimators 36  -  Tenemos un exactitud:0.7822702159718734  -  recall: 0.7707367336424523  -  F1_Score de: 0.775330396475771  -  Auc_Roc: 0.7819876710838427\n",
      "Para n_estimators 37  -  Tenemos un exactitud:0.7855349070818685  -  recall: 0.7764039155074703  -  F1_Score de: 0.7792140641158222  -  Auc_Roc: 0.7853112179203202\n",
      "Para n_estimators 38  -  Tenemos un exactitud:0.7837769964841788  -  recall: 0.773827923750644  -  F1_Score de: 0.7772315653298836  -  Auc_Roc: 0.7835332661379384\n",
      "Para n_estimators 39  -  Tenemos un exactitud:0.7847815168257157  -  recall: 0.779495105615662  -  F1_Score de: 0.7792943600309039  -  Auc_Roc: 0.7846520114065572\n"
     ]
    }
   ],
   "source": [
    "#entrenamiento del modelo\n",
    "for n in range(20,40):\n",
    "    model_2 = RandomForestClassifier(random_state=24, n_estimators = n, max_depth=20)\n",
    "    model_2.fit(features_train_res,target_train_res)\n",
    "    predicted_res = model_2.predict(features_valid_res)\n",
    "\n",
    "    print(f'Para n_estimators {n}  -  Tenemos un exactitud:{accuracy_score(target_valid_res, predicted_res)}  -  recall: {recall_score(target_valid_res, predicted_res)}  -  F1_Score de: {f1_score(target_valid_res, predicted_res)}  -  Auc_Roc: {roc_auc_score(target_valid_res, predicted_res)}')"
   ]
  },
  {
   "cell_type": "code",
   "execution_count": 24,
   "metadata": {},
   "outputs": [
    {
     "name": "stdout",
     "output_type": "stream",
     "text": [
      "Para depth 10  -  Tenemos un exactitud:0.7009040683073833  -  recall: 0.7161257083977332  -  F1_Score de: 0.7000755477209771  -  Auc_Roc: 0.7012769649289009\n",
      "Para depth 20  -  Tenemos un exactitud:0.7722250125565042  -  recall: 0.7650695517774343  -  F1_Score de: 0.7660562290430746  -  Auc_Roc: 0.7720497195437883\n",
      "Para depth 30  -  Tenemos un exactitud:0.7903063787041688  -  recall: 0.7861926841834106  -  F1_Score de: 0.7851813738101363  -  Auc_Roc: 0.7902056022582903\n",
      "Para depth 40  -  Tenemos un exactitud:0.8264691109994977  -  recall: 0.8315301391035549  -  F1_Score de: 0.8236795100791018  -  Auc_Roc: 0.8265930950294844\n",
      "Para depth 50  -  Tenemos un exactitud:0.8852335509794074  -  recall: 0.8938691396187533  -  F1_Score de: 0.8836261777438248  -  Auc_Roc: 0.8854451038613119\n",
      "Para depth 60  -  Tenemos un exactitud:0.9113510798593671  -  recall: 0.9268418341061309  -  F1_Score de: 0.9106555302455075  -  Auc_Roc: 0.9117305691843736\n",
      "Para depth 70  -  Tenemos un exactitud:0.9224008036162732  -  recall: 0.9474497681607419  -  F1_Score de: 0.9224981188863808  -  Auc_Roc: 0.9230144480196164\n",
      "Para depth 80  -  Tenemos un exactitud:0.9331993972877951  -  recall: 0.9500257599175682  -  F1_Score de: 0.9327263530601922  -  Auc_Roc: 0.9336116060734339\n",
      "Para depth 90  -  Tenemos un exactitud:0.9377197388247112  -  recall: 0.9598145285935085  -  F1_Score de: 0.9375943633618521  -  Auc_Roc: 0.9382610124594197\n",
      "Para depth 100  -  Tenemos un exactitud:0.9482672024108488  -  recall: 0.9639361154044307  -  F1_Score de: 0.9478216818642351  -  Auc_Roc: 0.9486510562323477\n",
      "Para depth 110  -  Tenemos un exactitud:0.9482672024108488  -  recall: 0.9659969088098919  -  F1_Score de: 0.9479271991911021  -  Auc_Roc: 0.948701541127141\n",
      "Para depth 120  -  Tenemos un exactitud:0.951783023606228  -  recall: 0.9639361154044307  -  F1_Score de: 0.951194712760549  -  Auc_Roc: 0.9520807475601282\n",
      "Para depth 130  -  Tenemos un exactitud:0.9542943244600703  -  recall: 0.9649665121071612  -  F1_Score de: 0.9536659877800407  -  Auc_Roc: 0.954555769527368\n",
      "Para depth 140  -  Tenemos un exactitud:0.9512807634354595  -  recall: 0.9634209170530654  -  F1_Score de: 0.9506863243518048  -  Auc_Roc: 0.9515781704324612\n",
      "Para depth 150  -  Tenemos un exactitud:0.9502762430939227  -  recall: 0.9587841318907779  -  F1_Score de: 0.9494897959183674  -  Auc_Roc: 0.9504846676112391\n",
      "Para depth 160  -  Tenemos un exactitud:0.9495228528377699  -  recall: 0.9629057187017002  -  F1_Score de: 0.948971820258949  -  Auc_Roc: 0.9498507035448726\n",
      "Para depth 170  -  Tenemos un exactitud:0.9510296333500753  -  recall: 0.9634209170530654  -  F1_Score de: 0.9504447268106735  -  Auc_Roc: 0.9513331924804769\n",
      "Para depth 180  -  Tenemos un exactitud:0.9507785032646912  -  recall: 0.9634209170530654  -  F1_Score de: 0.9502032520325203  -  Auc_Roc: 0.9510882145284925\n",
      "Para depth 190  -  Tenemos un exactitud:0.952787543947765  -  recall: 0.964451313755796  -  F1_Score de: 0.9521871820956256  -  Auc_Roc: 0.9530732805917637\n"
     ]
    }
   ],
   "source": [
    "#entrenamiento del modelo\n",
    "for depth in range(10,200,10):\n",
    "    model_2 = RandomForestClassifier(random_state=42, n_estimators = 20, max_depth=depth)\n",
    "    model_2.fit(features_train_res,target_train_res)\n",
    "    predicted_res = model_2.predict(features_valid_res)\n",
    "\n",
    "    print(f'Para depth {depth}  -  Tenemos un exactitud:{accuracy_score(target_valid_res, predicted_res)}  -  recall: {recall_score(target_valid_res, predicted_res)}  -  F1_Score de: {f1_score(target_valid_res, predicted_res)}  -  Auc_Roc: {roc_auc_score(target_valid_res, predicted_res)}')"
   ]
  },
  {
   "cell_type": "markdown",
   "metadata": {},
   "source": [
    "#### Realiza la prueba final."
   ]
  },
  {
   "cell_type": "code",
   "execution_count": 25,
   "metadata": {},
   "outputs": [
    {
     "name": "stdout",
     "output_type": "stream",
     "text": [
      "Tenemos un exactitud:0.8264691109994977  -  recall: 0.8315301391035549  -  F1_Score de: 0.8236795100791018  -  Auc_Roc: 0.8265930950294844\n"
     ]
    }
   ],
   "source": [
    "model_2 = RandomForestClassifier(random_state=42, n_estimators = 20, max_depth=40)\n",
    "model_2.fit(features_train_res,target_train_res)\n",
    "predicted_res = model_2.predict(features_valid_res)\n",
    "\n",
    "print(f'Tenemos un exactitud:{accuracy_score(target_valid_res, predicted_res)}  -  recall: {recall_score(target_valid_res, predicted_res)}  -  F1_Score de: {f1_score(target_valid_res, predicted_res)}  -  Auc_Roc: {roc_auc_score(target_valid_res, predicted_res)}')"
   ]
  },
  {
   "cell_type": "code",
   "execution_count": 26,
   "metadata": {},
   "outputs": [
    {
     "data": {
      "image/png": "[encoded data removed]",
      "text/plain": [
       "<Figure size 400x300 with 1 Axes>"
      ]
     },
     "metadata": {},
     "output_type": "display_data"
    }
   ],
   "source": [
    "#Matriz de confusion con datos balanceados y modelo ajustado\n",
    "cm = confusion_matrix(target_valid_res, predicted_res)\n",
    "\n",
    "plt.figure(figsize=(4, 3))\n",
    "sns.heatmap(cm, annot=True, fmt='d', cmap='Blues', cbar=False, xticklabels=[0,1], yticklabels=[0,1])\n",
    "plt.xlabel('Predicted')\n",
    "plt.ylabel('Target_valid')\n",
    "plt.title('Confusion Matrix')\n",
    "plt.show()"
   ]
  },
  {
   "cell_type": "code",
   "execution_count": 27,
   "metadata": {},
   "outputs": [
    {
     "name": "stdout",
     "output_type": "stream",
     "text": [
      "Exactitud en cada fold: [0.85893679 0.81665969 0.87442445 0.85265802 0.85678392]\n",
      "Exactitud promedio: 0.8519\n",
      "Desviación estándar: 0.0191\n"
     ]
    }
   ],
   "source": [
    "#Realizaremos una validacion cruzada con 5 folds\n",
    "\n",
    "scores = cross_val_score(model_2, features_train_res, target_train_res, cv=5, scoring='accuracy')\n",
    "\n",
    "# Imprimir los resultados\n",
    "print(f\"Exactitud en cada fold: {scores}\")\n",
    "print(f\"Exactitud promedio: {np.mean(scores):.4f}\")\n",
    "print(f\"Desviación estándar: {np.std(scores):.4f}\")"
   ]
  },
  {
   "cell_type": "markdown",
   "metadata": {},
   "source": [
    "#### Hallazgos\n",
    "\n",
    "- Para la configuracion de parametros tenemos:\n",
    "- El valor de n_estimators lo dejamos en 29 porque apartir de ahi no varia mucho los resultados y para evitar incrementamos en costo computacional innecesariamente podriamos escoger hasta 20.\n",
    "- El valor de max_depth, tenemos un dilema, en este caso como podemos ver confirme incrementamos el valor de depth seguimos mejorando los score, y donde comienza a estabilizarse en promedio de 94%\n",
    " cuando max_depth toma el valor de 100.\n",
    "- Podemos considerar 2 escenarios uno donde nos interesa optener los mejores parametros tomaremos como n_estimators = 100, y otro escenario donde queremos mantener una \n",
    "  relacion (buenos parametros)/(costo computacional) donde tomaremos n_estimators = 60.\n",
    "\n",
    "Tenemos los siguientes resultados para el modelo con los parametros configurados:\n",
    "- Como podemos ver las metricas nos indican que el modelo es lo suficiente bueno, sobre todo por F1_score y recall como explico a continuacion.\n",
    "- Como vemos en la matrix de confusion tenemos verdaderos positivos en gran mayoria seguidos de Verdaderos negativos lo cual es muy bueno y muy pocos falsos positivos y  negativos.\n",
    "- Para Exactitud o Accuracy, tenemos que estamos detectando el 83.77% de los valores positivos, este parametro es muy bueno.\n",
    "- Para recall o sensibilidad, tenemos que solo el 83.73% son verdaderos positivos, es decir solo este porcentaje fueron identificados correctamente, este porcentaje es muy bueno.\n",
    "- F1_score, es alto 83.39% nos indica que es un buen modelo y esta balanceado.\n",
    "- Auc_Roc, tenemos un 83.77%, esto nos indica que el modelo es muy superio al de un modelo al azar.\n",
    "- Con el resultado de la validacion cruzada comprobamos que el modelo no solo es util con un subconjunto de datos unicamente sino con las diferentes variaciones de subconjuntos.\n",
    "\n"
   ]
  }
 ],
 "metadata": {
  "kernelspec": {
   "display_name": "envsp10",
   "language": "python",
   "name": "python3"
  },
  "language_info": {
   "codemirror_mode": {
    "name": "ipython",
    "version": 3
   },
   "file_extension": ".py",
   "mimetype": "text/x-python",
   "name": "python",
   "nbconvert_exporter": "python",
   "pygments_lexer": "ipython3",
   "version": "3.12.3"
  }
 },
 "nbformat": 4,
 "nbformat_minor": 2
}
